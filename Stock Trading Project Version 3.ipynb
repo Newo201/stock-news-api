{
 "cells": [
  {
   "cell_type": "markdown",
   "id": "26dd7d19",
   "metadata": {},
   "source": [
    "# Stock Trading News"
   ]
  },
  {
   "cell_type": "markdown",
   "id": "e6393ebf",
   "metadata": {},
   "source": [
    "## By Owen Jackson"
   ]
  },
  {
   "cell_type": "markdown",
   "id": "afbc6c39",
   "metadata": {},
   "source": [
    "## Version 3.0"
   ]
  },
  {
   "cell_type": "markdown",
   "id": "64446ac3",
   "metadata": {},
   "source": [
    " - Made a class based system, with inheritance"
   ]
  },
  {
   "cell_type": "markdown",
   "id": "2064b0b0",
   "metadata": {},
   "source": [
    "## Project Expansions"
   ]
  },
  {
   "cell_type": "markdown",
   "id": "dbad26bf",
   "metadata": {},
   "source": [
    "- Add a GUI\n",
    "- Connect to a Website"
   ]
  },
  {
   "cell_type": "markdown",
   "id": "030357b0",
   "metadata": {},
   "source": [
    "## 0. Set Up and User Inputs"
   ]
  },
  {
   "cell_type": "code",
   "execution_count": 1,
   "id": "843d5898",
   "metadata": {},
   "outputs": [],
   "source": [
    "from datetime import datetime, timedelta # Setting Dates\n",
    "from stocks import Stocks\n",
    "from coins import Coins"
   ]
  },
  {
   "cell_type": "markdown",
   "id": "10ba4717",
   "metadata": {},
   "source": [
    "The current close day is yesterday due to the time difference between Aus and US. Potential that this may create a lag with the closing price data, which could be modified in future versions."
   ]
  },
  {
   "cell_type": "code",
   "execution_count": 2,
   "id": "2c3de792",
   "metadata": {},
   "outputs": [],
   "source": [
    "# Stocks\n",
    "cur_close_date = (datetime.today() - timedelta(days = 1)).strftime(\"%Y-%m-%d\")\n",
    "prev_close_date = (datetime.today() - timedelta(days = 2)).strftime(\"%Y-%m-%d\")\n",
    "\n",
    "# Coins in dd-mm-yyyy format\n",
    "coin_close_date = datetime.strptime(cur_close_date, '%Y-%m-%d')\n",
    "coin_prev_date = coin_close_date - timedelta(days = 1)\n",
    "coin_close_date = coin_close_date.strftime('%d-%m-%Y')\n",
    "coin_prev_date = coin_prev_date.strftime('%d-%m-%Y')"
   ]
  },
  {
   "cell_type": "markdown",
   "id": "4a900e37",
   "metadata": {},
   "source": [
    "Stocks should be a list of symbols e.g. TSLA and AAPL. User can change these inputs, but should not change anything else."
   ]
  },
  {
   "cell_type": "code",
   "execution_count": 3,
   "id": "c18ffbe3",
   "metadata": {},
   "outputs": [],
   "source": [
    "stock_portfolio = ['TSLA', 'AAPL']\n",
    "coin_portfolio = [\"bitcoin\", \"ethereum\"]"
   ]
  },
  {
   "cell_type": "markdown",
   "id": "09989135",
   "metadata": {},
   "source": [
    "## 1. Running Code"
   ]
  },
  {
   "cell_type": "markdown",
   "id": "d2124506",
   "metadata": {},
   "source": [
    "After importing the classes, the user only needs to run these lines of code."
   ]
  },
  {
   "cell_type": "code",
   "execution_count": 4,
   "id": "3e61f176",
   "metadata": {},
   "outputs": [],
   "source": [
    "cur_stocks = Stocks(stock_portfolio, 0.1, cur_close_date)\n",
    "cur_stocks.news()"
   ]
  },
  {
   "cell_type": "code",
   "execution_count": 5,
   "id": "ca73212c",
   "metadata": {},
   "outputs": [
    {
     "ename": "TypeError",
     "evalue": "__init__() missing 2 required positional arguments: 'coin_close_date' and 'coin_prev_date'",
     "output_type": "error",
     "traceback": [
      "\u001b[1;31m---------------------------------------------------------------------------\u001b[0m",
      "\u001b[1;31mTypeError\u001b[0m                                 Traceback (most recent call last)",
      "Cell \u001b[1;32mIn[5], line 1\u001b[0m\n\u001b[1;32m----> 1\u001b[0m cur_coins \u001b[38;5;241m=\u001b[39m \u001b[43mCoins\u001b[49m\u001b[43m(\u001b[49m\u001b[43mcoin_portfolio\u001b[49m\u001b[43m,\u001b[49m\u001b[43m \u001b[49m\u001b[38;5;241;43m1\u001b[39;49m\u001b[43m)\u001b[49m\n\u001b[0;32m      2\u001b[0m cur_coins\u001b[38;5;241m.\u001b[39mdaily_return()\n\u001b[0;32m      3\u001b[0m cur_coins\u001b[38;5;241m.\u001b[39mnews()\n",
      "\u001b[1;31mTypeError\u001b[0m: __init__() missing 2 required positional arguments: 'coin_close_date' and 'coin_prev_date'"
     ]
    }
   ],
   "source": [
    "cur_coins = Coins(coin_portfolio, 1, cur_close_date, coin_close_date, coin_prev_date)\n",
    "cur_coins.daily_return()\n",
    "cur_coins.news()"
   ]
  }
 ],
 "metadata": {
  "kernelspec": {
   "display_name": "Python 3 (ipykernel)",
   "language": "python",
   "name": "python3"
  },
  "language_info": {
   "codemirror_mode": {
    "name": "ipython",
    "version": 3
   },
   "file_extension": ".py",
   "mimetype": "text/x-python",
   "name": "python",
   "nbconvert_exporter": "python",
   "pygments_lexer": "ipython3",
   "version": "3.9.13"
  }
 },
 "nbformat": 4,
 "nbformat_minor": 5
}
